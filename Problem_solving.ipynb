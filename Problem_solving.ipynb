{
  "nbformat": 4,
  "nbformat_minor": 0,
  "metadata": {
    "colab": {
      "provenance": []
    },
    "kernelspec": {
      "name": "python3",
      "display_name": "Python 3"
    },
    "language_info": {
      "name": "python"
    }
  },
  "cells": [
    {
      "cell_type": "code",
      "source": [
        "def find_duplicates(outcomes):\n",
        "    seen = set()\n",
        "    duplicates = []\n",
        "\n",
        "    for num in outcomes:\n",
        "        if num in seen:\n",
        "            duplicates.append(num)\n",
        "            if len(duplicates) == 2:\n",
        "                return duplicates  # Stop once we find two duplicates\n",
        "        else:\n",
        "            seen.add(num)\n",
        "\n",
        "    return duplicates  # This should always contain exactly two numbers\n",
        "\n",
        "# Given input\n",
        "outcomes = [123456, 234567, 123347, 456789, 567890, 678901, 789012, 890123, 901234,\n",
        "            112233, 223344, 334455, 789012, 222234, 123347]\n",
        "\n",
        "# Find and print duplicates\n",
        "print(find_duplicates(outcomes))\n"
      ],
      "metadata": {
        "colab": {
          "base_uri": "https://localhost:8080/"
        },
        "id": "Ff-1_54Yya0Z",
        "outputId": "c0dac561-bc06-4616-e145-bd82530642b4"
      },
      "execution_count": 2,
      "outputs": [
        {
          "output_type": "stream",
          "name": "stdout",
          "text": [
            "[789012, 123347]\n"
          ]
        }
      ]
    },
    {
      "cell_type": "code",
      "source": [
        "def alternating_case(s):\n",
        "    result = []\n",
        "    upper = True  # Toggle flag to switch case\n",
        "\n",
        "    for char in s:\n",
        "        if char.isalpha():  # Only process alphabetical characters\n",
        "            if upper:\n",
        "                result.append(char.upper())\n",
        "            else:\n",
        "                result.append(char.lower())\n",
        "            upper = not upper  # Toggle for next letter\n",
        "        else:\n",
        "            result.append(char)  # Keep non-alphabet characters unchanged\n",
        "\n",
        "    return \"\".join(result)\n",
        "\n",
        "# Given input\n",
        "s = \"Za^B8g@E2jH*kWl!MoPqXr7YvT1c$Fs3Ud9IwZ&yX0pLkV6sHqN^tB4rA+oZ%gFj\"\n",
        "\n",
        "# Get and print the output\n",
        "print(alternating_case(s))\n"
      ],
      "metadata": {
        "colab": {
          "base_uri": "https://localhost:8080/"
        },
        "id": "iRmEkhB0y-vD",
        "outputId": "6eaae80a-ae2c-4a99-93d4-ea0906b97696"
      },
      "execution_count": 3,
      "outputs": [
        {
          "output_type": "stream",
          "name": "stdout",
          "text": [
            "Za^B8g@E2jH*kWl!MoPqXr7YvT1c$Fs3Ud9IwZ&yX0pLkV6sHqN^tB4rA+oZ%gFj\n"
          ]
        }
      ]
    },
    {
      "cell_type": "code",
      "source": [
        "from collections import Counter\n",
        "from math import gcd\n",
        "from functools import reduce\n",
        "\n",
        "def can_organize_books(shelf):\n",
        "    freq = Counter(shelf)  # Count occurrences of each book\n",
        "    counts = list(freq.values())  # Extract frequency values\n",
        "\n",
        "    # Compute GCD of all frequency values\n",
        "    overall_gcd = reduce(gcd, counts)\n",
        "\n",
        "    return \"YES\" if overall_gcd > 1 else \"NO\"\n",
        "\n",
        "# Given bookshelf input\n",
        "shelf = [\n",
        "    1234567, 1234567, 2345678, 2345678, 3456789, 3456789, 1234567, 2345678,\n",
        "    3456789, 4567890, 4567890, 5678901, 5678901, 6789012, 6789012, 1234567,\n",
        "    2345678, 3456789, 4567890, 5678901, 4567890, 5678901\n",
        "]\n",
        "\n",
        "# Print the result\n",
        "print(can_organize_books(shelf))\n"
      ],
      "metadata": {
        "colab": {
          "base_uri": "https://localhost:8080/"
        },
        "id": "tsB1WtmVzTrM",
        "outputId": "306f3fdb-189d-4cce-f1cc-1734c866d6b3"
      },
      "execution_count": 4,
      "outputs": [
        {
          "output_type": "stream",
          "name": "stdout",
          "text": [
            "YES\n"
          ]
        }
      ]
    },
    {
      "cell_type": "code",
      "source": [
        "import pandas as pd\n",
        "\n",
        "# Load the dataset\n",
        "df = pd.read_csv('NBA_2024_cleaned.csv')\n",
        "\n",
        "# Select only numeric columns\n",
        "df_numeric = df.select_dtypes(include=['float64', 'int64'])\n",
        "\n",
        "# Compute the correlation matrix\n",
        "correlation_matrix = df_numeric.corr()\n",
        "\n",
        "# Get the correlation values with 'PTS'\n",
        "correlation_with_pts = correlation_matrix['PTS']\n",
        "\n",
        "# Sort the correlation values in descending order\n",
        "sorted_correlations = correlation_with_pts.sort_values(ascending=False)\n",
        "\n",
        "# Get the top 5 most correlated metrics\n",
        "top_5_correlations = sorted_correlations.index[1:6]  # Excluding 'PTS' itself\n",
        "\n",
        "# Print the top 5 metrics most correlated with 'PTS'\n",
        "print(\", \".join(top_5_correlations))\n",
        "\n"
      ],
      "metadata": {
        "colab": {
          "base_uri": "https://localhost:8080/"
        },
        "id": "YbnC5ybY09jW",
        "outputId": "55e9b4bb-5edc-4200-b9bf-38df888e42c2"
      },
      "execution_count": 6,
      "outputs": [
        {
          "output_type": "stream",
          "name": "stdout",
          "text": [
            "FG, FGA, 2PA, 2P, FT\n"
          ]
        }
      ]
    },
    {
      "cell_type": "code",
      "source": [
        "import matplotlib.pyplot as plt\n",
        "\n",
        "\n",
        "# Define high scorers as players with PTS >= 20\n",
        "high_scorers = df[df['PTS'] >= 20]\n",
        "other_players = df[df['PTS'] < 20]\n",
        "\n",
        "# Define the metrics to compare\n",
        "metrics = ['FGA', '3PA', 'FT', 'AST', 'TRB']\n",
        "\n",
        "# Calculate the mean values for each metric for high scorers and other players\n",
        "high_scorers_means = high_scorers[metrics].mean()\n",
        "other_players_means = other_players[metrics].mean()\n",
        "\n",
        "# Create a DataFrame for easy comparison\n",
        "comparison_df = pd.DataFrame({\n",
        "    'High Scorers': high_scorers_means,\n",
        "    'Other Players': other_players_means\n",
        "})\n",
        "\n",
        "# Plot the comparison of mean values\n",
        "comparison_df.plot(kind='bar', figsize=(10, 6))\n",
        "plt.title('Comparison of Metrics Between High Scorers and Other Players')\n",
        "plt.ylabel('Mean Value')\n",
        "plt.xticks(rotation=45)\n",
        "plt.show()\n"
      ],
      "metadata": {
        "colab": {
          "base_uri": "https://localhost:8080/",
          "height": 560
        },
        "id": "esIIgrO81wbg",
        "outputId": "28a8d3da-abc6-457f-8d21-7fdeda5898ac"
      },
      "execution_count": 7,
      "outputs": [
        {
          "output_type": "display_data",
          "data": {
            "text/plain": [
              "<Figure size 1000x600 with 1 Axes>"
            ],
            "image/png": "[encoded data removed]"
          },
          "metadata": {}
        }
      ]
    }
  ]
}